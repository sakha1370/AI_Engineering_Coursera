{
 "cells": [
  {
   "cell_type": "markdown",
   "metadata": {},
   "source": [
    "<p style=\"text-align:center\">\n",
    "    <a href=\"https://skills.network\" target=\"_blank\">\n",
    "    <img src=\"https://cf-courses-data.s3.us.cloud-object-storage.appdomain.cloud/assets/logos/SN_web_lightmode.png\" width=\"200\" alt=\"Skills Network Logo\"  />\n",
    "    </a>\n",
    "</p>\n"
   ]
  },
  {
   "cell_type": "markdown",
   "metadata": {},
   "source": [
    "# **Lab: Implementing Transformers for Text Generation**\n"
   ]
  },
  {
   "cell_type": "markdown",
   "metadata": {},
   "source": [
    "Estimated time needed: **30** minutes\n"
   ]
  },
  {
   "cell_type": "markdown",
   "metadata": {},
   "source": [
    "In this lab, you will learn to implement Transformers for text generation tasks. \n"
   ]
  },
  {
   "cell_type": "markdown",
   "metadata": {},
   "source": [
    "## Learning Objectives\n",
    "\n",
    "- Implement Transformers for text generation tasks \n",
    "\n",
    "- Build, train, and evaluate Transformer models for text generation using TensorFlow and Keras \n",
    "\n",
    "- Apply text generation in real-world scenarios \n"
   ]
  },
  {
   "cell_type": "markdown",
   "metadata": {},
   "source": [
    "----\n"
   ]
  },
  {
   "cell_type": "markdown",
   "metadata": {},
   "source": [
    "### Step-by-step instructions \n",
    "\n",
    "#### Step 1: Set up the environment \n",
    "\n",
    "- Import necessary libraries and load the data set \n",
    "\n",
    "- Preprocess the dataset for training \n",
    "\n",
    "In the following code: \n",
    "\n",
    "- Import TensorFlow and other necessary libraries. \n",
    "\n",
    "- Load the Shakespeare text dataset. \n",
    "\n",
    "- Preprocess the data set using the TextVectorization layer to convert text into integer sequences. \n"
   ]
  },
  {
   "cell_type": "code",
   "execution_count": 1,
   "metadata": {},
   "outputs": [],
   "source": [
    "# !pip install tensorflow==2.16.2"
   ]
  },
  {
   "cell_type": "code",
   "execution_count": 2,
   "metadata": {},
   "outputs": [],
   "source": [
    "import tensorflow as tf \n",
    "import numpy as np \n",
    "from keras.layers import TextVectorization \n",
    "from keras.utils import get_file "
   ]
  },
  {
   "cell_type": "code",
   "execution_count": 3,
   "metadata": {},
   "outputs": [
    {
     "name": "stdout",
     "output_type": "stream",
     "text": [
      "First Citizen:\n",
      "Before we proceed any further, hear me speak.\n",
      "\n",
      "All:\n",
      "Speak, speak.\n",
      "\n",
      "First Citizen:\n",
      "You are all resolved rather to die than to famish?\n",
      "\n",
      "All:\n",
      "Resolved. resolved.\n",
      "\n",
      "First Citizen:\n",
      "First, you know Caius Marcius is chief enemy to the people.\n",
      "\n",
      "All:\n",
      "We know't, we know't.\n",
      "\n",
      "First Citizen:\n",
      "Let us kill him, and we'll have corn at our own price.\n",
      "Is't a verdict?\n",
      "\n",
      "All:\n",
      "No more talking on't; let it be done: away, away!\n",
      "\n",
      "Second Citizen:\n",
      "One word, good citizens.\n",
      "\n",
      "First Citizen:\n",
      "We are accounted poor citizens, the patricians good.\n",
      "What authority surfeits on would relieve us: if they\n",
      "would yield us but the superfluity, while it were\n",
      "wholesome, we might guess they relieved us humanely;\n",
      "but they think we are too dear: the leanness that\n",
      "afflicts us, the object of our misery, is as an\n",
      "inventory to particularise their abundance; our\n",
      "sufferance is a gain to them Let us revenge this with\n",
      "our pikes, ere we become rakes: for the gods know I\n",
      "speak this in hunger for bread, not in thirst for revenge.\n",
      "\n",
      "\n"
     ]
    }
   ],
   "source": [
    "# Load the dataset \n",
    "path_to_file = get_file('shakespeare.txt', 'https://storage.googleapis.com/download.tensorflow.org/data/shakespeare.txt') \n",
    "text = open(path_to_file, 'rb').read().decode(encoding='utf-8') \n",
    "\n",
    "# Preview the dataset \n",
    "print(text[:1000]) "
   ]
  },
  {
   "cell_type": "code",
   "execution_count": 4,
   "metadata": {},
   "outputs": [
    {
     "name": "stderr",
     "output_type": "stream",
     "text": [
      "WARNING: All log messages before absl::InitializeLog() is called are written to STDERR\n",
      "I0000 00:00:1739852708.819402    1959 cuda_executor.cc:1001] could not open file to read NUMA node: /sys/bus/pci/devices/0000:01:00.0/numa_node\n",
      "Your kernel may have been built without NUMA support.\n",
      "I0000 00:00:1739852709.750477    1959 cuda_executor.cc:1001] could not open file to read NUMA node: /sys/bus/pci/devices/0000:01:00.0/numa_node\n",
      "Your kernel may have been built without NUMA support.\n",
      "I0000 00:00:1739852709.750983    1959 cuda_executor.cc:1001] could not open file to read NUMA node: /sys/bus/pci/devices/0000:01:00.0/numa_node\n",
      "Your kernel may have been built without NUMA support.\n",
      "I0000 00:00:1739852709.773523    1959 cuda_executor.cc:1001] could not open file to read NUMA node: /sys/bus/pci/devices/0000:01:00.0/numa_node\n",
      "Your kernel may have been built without NUMA support.\n",
      "I0000 00:00:1739852709.773850    1959 cuda_executor.cc:1001] could not open file to read NUMA node: /sys/bus/pci/devices/0000:01:00.0/numa_node\n",
      "Your kernel may have been built without NUMA support.\n",
      "I0000 00:00:1739852709.774060    1959 cuda_executor.cc:1001] could not open file to read NUMA node: /sys/bus/pci/devices/0000:01:00.0/numa_node\n",
      "Your kernel may have been built without NUMA support.\n",
      "I0000 00:00:1739852710.603213    1959 cuda_executor.cc:1001] could not open file to read NUMA node: /sys/bus/pci/devices/0000:01:00.0/numa_node\n",
      "Your kernel may have been built without NUMA support.\n",
      "I0000 00:00:1739852710.603847    1959 cuda_executor.cc:1001] could not open file to read NUMA node: /sys/bus/pci/devices/0000:01:00.0/numa_node\n",
      "Your kernel may have been built without NUMA support.\n",
      "2025-02-18 07:55:10.603904: I tensorflow/core/common_runtime/gpu/gpu_device.cc:2112] Could not identify NUMA node of platform GPU id 0, defaulting to 0.  Your kernel may not have been built with NUMA support.\n",
      "I0000 00:00:1739852710.604168    1959 cuda_executor.cc:1001] could not open file to read NUMA node: /sys/bus/pci/devices/0000:01:00.0/numa_node\n",
      "Your kernel may have been built without NUMA support.\n",
      "2025-02-18 07:55:10.604250: I tensorflow/core/common_runtime/gpu/gpu_device.cc:2021] Created device /job:localhost/replica:0/task:0/device:GPU:0 with 2242 MB memory:  -> device: 0, name: NVIDIA GeForce GTX 1650, pci bus id: 0000:01:00.0, compute capability: 7.5\n",
      "2025-02-18 07:55:11.549808: I tensorflow/core/framework/local_rendezvous.cc:404] Local rendezvous is aborting with status: OUT_OF_RANGE: End of sequence\n"
     ]
    },
    {
     "name": "stdout",
     "output_type": "stream",
     "text": [
      "Vectorized text shape: (202646,)\n",
      "First 10 vectorized tokens: [ 89 270 138  36 982 144 673 125  16 106]\n"
     ]
    }
   ],
   "source": [
    "# Preprocess the dataset \n",
    "vocab_size = 10000 \n",
    "seq_length = 100 \n",
    "\n",
    "# Adapt TextVectorization to full text \n",
    "vectorizer = TextVectorization(max_tokens=vocab_size, output_mode='int') \n",
    "text_ds = tf.data.Dataset.from_tensor_slices([text]).batch(1) \n",
    "vectorizer.adapt(text_ds) \n",
    "\n",
    "# Vectorize the text \n",
    "vectorized_text = vectorizer([text])[0] \n",
    "print(\"Vectorized text shape:\", vectorized_text.shape) \n",
    "print(\"First 10 vectorized tokens:\", vectorized_text.numpy()[:10]) "
   ]
  },
  {
   "cell_type": "markdown",
   "metadata": {},
   "source": [
    "#### Step 2: Create input and target sequences \n",
    "\n",
    "Generate input and target sequences for training the Transformer model. \n",
    "\n",
    "In the following code: \n",
    "\n",
    "- Define a function to generate input and target sequences. \n",
    "\n",
    "- Split the text data into sequences of the specified length. \n",
    "\n",
    "- Convert the sequences into TensorFlow tensors for training. \n",
    "\n",
    "Generative sequence: \n"
   ]
  },
  {
   "cell_type": "code",
   "execution_count": 5,
   "metadata": {},
   "outputs": [
    {
     "name": "stdout",
     "output_type": "stream",
     "text": [
      "Number of sequences generated: 202546\n",
      "Sample input sequence: [  89  270  138   36  982  144  673  125   16  106   34  106  106   89\n",
      "  270    7   41   34 1286  344    4  200   64    4 3690   34 1286 1286\n",
      "   89  270   89    7   93 1187  225   12 2442  592    4    2  307   34\n",
      "   36 2655   36 2655   89  270   72   79  506   27    3   56   24 1390\n",
      "   57   40  161 2328  644    9 4980   34   32   54 2863  885   72   17\n",
      "   18  163  146  146  165  270   74  218   46  595   89  270   36   41\n",
      " 6739  172  595    2 1780   46   29 1323 5151   47   58 4151   79   39\n",
      "   60   58]\n",
      "Shape of X: (202546, 100)\n",
      "Shape of Y: (202546, 100)\n"
     ]
    }
   ],
   "source": [
    "def create_sequences(text, seq_length): \n",
    "    input_seqs = [] \n",
    "    target_seqs = [] \n",
    "    for i in range(len(text) - seq_length): \n",
    "        input_seq = text[i:i + seq_length] \n",
    "        target_seq = text[i + 1:i + seq_length + 1] \n",
    "        input_seqs.append(input_seq) \n",
    "        target_seqs.append(target_seq) \n",
    "    return np.array(input_seqs), np.array(target_seqs) \n",
    "\n",
    "# Generate sequences \n",
    "X, Y = create_sequences(vectorized_text.numpy(), seq_length) \n",
    "\n",
    "# Check if sequences are correctly generated \n",
    "print(\"Number of sequences generated:\", len(X)) \n",
    "print(\"Sample input sequence:\", X[0] if len(X) > 0 else \"No sequences generated\") \n",
    "\n",
    "# Check if X and Y are not empty \n",
    "assert X.size > 0, \"Input data X is empty\" \n",
    "assert Y.size > 0, \"Target data Y is empty\" \n",
    "X = tf.convert_to_tensor(X) \n",
    "Y = tf.convert_to_tensor(Y) \n",
    "print(\"Shape of X:\", X.shape) \n",
    "print(\"Shape of Y:\", Y.shape)\n"
   ]
  },
  {
   "cell_type": "markdown",
   "metadata": {},
   "source": [
    "#### Step 3: Build the Transformer model \n",
    "\n",
    "Define the Transformer model architecture for text generation. \n",
    "\n",
    "In the following code: \n",
    "\n",
    "- Define the TransformerBlock class that includes multi-head attention and feedforward layers with normalization and dropout. \n",
    "\n",
    "- Define the TransformerModel class, including embedding, positional encoding, and multiple Transformer blocks. \n",
    "\n",
    "- Compile the Transformer model using the Adam optimizer and sparse categorical cross-entropy loss function. \n",
    "\n",
    "Transformer model: \n"
   ]
  },
  {
   "cell_type": "code",
   "execution_count": 6,
   "metadata": {},
   "outputs": [],
   "source": [
    "from keras.layers import Embedding, MultiHeadAttention, Dense, LayerNormalization, Dropout\n",
    "from keras.models import Model\n",
    "\n",
    "class TransformerBlock(tf.keras.layers.Layer):\n",
    "    def __init__(self, embed_dim, num_heads, ff_dim, rate=0.1):\n",
    "        super(TransformerBlock, self).__init__()\n",
    "        self.att = MultiHeadAttention(num_heads=num_heads, key_dim=embed_dim)\n",
    "        self.ffn = tf.keras.Sequential([\n",
    "            Dense(ff_dim, activation=\"relu\"),\n",
    "            Dense(embed_dim),\n",
    "        ])\n",
    "        self.layernorm1 = LayerNormalization(epsilon=1e-6)\n",
    "        self.layernorm2 = LayerNormalization(epsilon=1e-6)\n",
    "        self.dropout1 = Dropout(rate)\n",
    "        self.dropout2 = Dropout(rate)\n",
    "\n",
    "    def call(self, inputs, training=False):\n",
    "        attn_output = self.att(inputs, inputs)\n",
    "        attn_output = self.dropout1(attn_output, training=training)\n",
    "        out1 = self.layernorm1(inputs + attn_output)\n",
    "        ffn_output = self.ffn(out1)\n",
    "        ffn_output = self.dropout2(ffn_output, training=training)\n",
    "        return self.layernorm2(out1 + ffn_output)\n",
    "\n",
    "class TransformerModel(Model):  # Model is now properly imported\n",
    "    def __init__(self, vocab_size, embed_dim, num_heads, ff_dim, num_layers, seq_length):\n",
    "        super(TransformerModel, self).__init__()\n",
    "        self.embedding = Embedding(vocab_size, embed_dim)\n",
    "        self.pos_encoding = self.positional_encoding(seq_length, embed_dim)\n",
    "        self.transformer_blocks = [TransformerBlock(embed_dim, num_heads, ff_dim) for _ in range(num_layers)]\n",
    "        self.dense = Dense(vocab_size)\n",
    "\n",
    "    def positional_encoding(self, seq_length, embed_dim):\n",
    "        angle_rads = self.get_angles(np.arange(seq_length)[:, np.newaxis], np.arange(embed_dim)[np.newaxis, :], embed_dim)\n",
    "        angle_rads[:, 0::2] = np.sin(angle_rads[:, 0::2])\n",
    "        angle_rads[:, 1::2] = np.cos(angle_rads[:, 1::2])\n",
    "        pos_encoding = angle_rads[np.newaxis, ...]\n",
    "        return tf.cast(pos_encoding, dtype=tf.float32)\n",
    "\n",
    "    def get_angles(self, pos, i, embed_dim):\n",
    "        angle_rates = 1 / np.power(10000, (2 * (i // 2)) / np.float32(embed_dim))\n",
    "        return pos * angle_rates\n",
    "\n",
    "    def call(self, inputs, training=False):\n",
    "        seq_len = tf.shape(inputs)[1]\n",
    "        x = self.embedding(inputs)\n",
    "        x += self.pos_encoding[:, :seq_len, :]\n",
    "        for transformer_block in self.transformer_blocks:\n",
    "            x = transformer_block(x, training=training)  # Pass training argument correctly\n",
    "        output = self.dense(x)\n",
    "        return output"
   ]
  },
  {
   "cell_type": "code",
   "execution_count": 7,
   "metadata": {},
   "outputs": [
    {
     "data": {
      "text/html": [
       "<pre style=\"white-space:pre;overflow-x:auto;line-height:normal;font-family:Menlo,'DejaVu Sans Mono',consolas,'Courier New',monospace\"><span style=\"font-weight: bold\">Model: \"transformer_model\"</span>\n",
       "</pre>\n"
      ],
      "text/plain": [
       "\u001b[1mModel: \"transformer_model\"\u001b[0m\n"
      ]
     },
     "metadata": {},
     "output_type": "display_data"
    },
    {
     "data": {
      "text/html": [
       "<pre style=\"white-space:pre;overflow-x:auto;line-height:normal;font-family:Menlo,'DejaVu Sans Mono',consolas,'Courier New',monospace\">┏━━━━━━━━━━━━━━━━━━━━━━━━━━━━━━━━━┳━━━━━━━━━━━━━━━━━━━━━━━━┳━━━━━━━━━━━━━━━┓\n",
       "┃<span style=\"font-weight: bold\"> Layer (type)                    </span>┃<span style=\"font-weight: bold\"> Output Shape           </span>┃<span style=\"font-weight: bold\">       Param # </span>┃\n",
       "┡━━━━━━━━━━━━━━━━━━━━━━━━━━━━━━━━━╇━━━━━━━━━━━━━━━━━━━━━━━━╇━━━━━━━━━━━━━━━┩\n",
       "│ embedding (<span style=\"color: #0087ff; text-decoration-color: #0087ff\">Embedding</span>)           │ (<span style=\"color: #00af00; text-decoration-color: #00af00\">1</span>, <span style=\"color: #00af00; text-decoration-color: #00af00\">100</span>, <span style=\"color: #00af00; text-decoration-color: #00af00\">256</span>)          │     <span style=\"color: #00af00; text-decoration-color: #00af00\">2,560,000</span> │\n",
       "├─────────────────────────────────┼────────────────────────┼───────────────┤\n",
       "│ transformer_block               │ ?                      │     <span style=\"color: #00af00; text-decoration-color: #00af00\">1,315,840</span> │\n",
       "│ (<span style=\"color: #0087ff; text-decoration-color: #0087ff\">TransformerBlock</span>)              │                        │               │\n",
       "├─────────────────────────────────┼────────────────────────┼───────────────┤\n",
       "│ transformer_block_1             │ ?                      │     <span style=\"color: #00af00; text-decoration-color: #00af00\">1,315,840</span> │\n",
       "│ (<span style=\"color: #0087ff; text-decoration-color: #0087ff\">TransformerBlock</span>)              │                        │               │\n",
       "├─────────────────────────────────┼────────────────────────┼───────────────┤\n",
       "│ transformer_block_2             │ ?                      │     <span style=\"color: #00af00; text-decoration-color: #00af00\">1,315,840</span> │\n",
       "│ (<span style=\"color: #0087ff; text-decoration-color: #0087ff\">TransformerBlock</span>)              │                        │               │\n",
       "├─────────────────────────────────┼────────────────────────┼───────────────┤\n",
       "│ transformer_block_3             │ ?                      │     <span style=\"color: #00af00; text-decoration-color: #00af00\">1,315,840</span> │\n",
       "│ (<span style=\"color: #0087ff; text-decoration-color: #0087ff\">TransformerBlock</span>)              │                        │               │\n",
       "├─────────────────────────────────┼────────────────────────┼───────────────┤\n",
       "│ dense_8 (<span style=\"color: #0087ff; text-decoration-color: #0087ff\">Dense</span>)                 │ (<span style=\"color: #00af00; text-decoration-color: #00af00\">1</span>, <span style=\"color: #00af00; text-decoration-color: #00af00\">100</span>, <span style=\"color: #00af00; text-decoration-color: #00af00\">10000</span>)        │     <span style=\"color: #00af00; text-decoration-color: #00af00\">2,570,000</span> │\n",
       "└─────────────────────────────────┴────────────────────────┴───────────────┘\n",
       "</pre>\n"
      ],
      "text/plain": [
       "┏━━━━━━━━━━━━━━━━━━━━━━━━━━━━━━━━━┳━━━━━━━━━━━━━━━━━━━━━━━━┳━━━━━━━━━━━━━━━┓\n",
       "┃\u001b[1m \u001b[0m\u001b[1mLayer (type)                   \u001b[0m\u001b[1m \u001b[0m┃\u001b[1m \u001b[0m\u001b[1mOutput Shape          \u001b[0m\u001b[1m \u001b[0m┃\u001b[1m \u001b[0m\u001b[1m      Param #\u001b[0m\u001b[1m \u001b[0m┃\n",
       "┡━━━━━━━━━━━━━━━━━━━━━━━━━━━━━━━━━╇━━━━━━━━━━━━━━━━━━━━━━━━╇━━━━━━━━━━━━━━━┩\n",
       "│ embedding (\u001b[38;5;33mEmbedding\u001b[0m)           │ (\u001b[38;5;34m1\u001b[0m, \u001b[38;5;34m100\u001b[0m, \u001b[38;5;34m256\u001b[0m)          │     \u001b[38;5;34m2,560,000\u001b[0m │\n",
       "├─────────────────────────────────┼────────────────────────┼───────────────┤\n",
       "│ transformer_block               │ ?                      │     \u001b[38;5;34m1,315,840\u001b[0m │\n",
       "│ (\u001b[38;5;33mTransformerBlock\u001b[0m)              │                        │               │\n",
       "├─────────────────────────────────┼────────────────────────┼───────────────┤\n",
       "│ transformer_block_1             │ ?                      │     \u001b[38;5;34m1,315,840\u001b[0m │\n",
       "│ (\u001b[38;5;33mTransformerBlock\u001b[0m)              │                        │               │\n",
       "├─────────────────────────────────┼────────────────────────┼───────────────┤\n",
       "│ transformer_block_2             │ ?                      │     \u001b[38;5;34m1,315,840\u001b[0m │\n",
       "│ (\u001b[38;5;33mTransformerBlock\u001b[0m)              │                        │               │\n",
       "├─────────────────────────────────┼────────────────────────┼───────────────┤\n",
       "│ transformer_block_3             │ ?                      │     \u001b[38;5;34m1,315,840\u001b[0m │\n",
       "│ (\u001b[38;5;33mTransformerBlock\u001b[0m)              │                        │               │\n",
       "├─────────────────────────────────┼────────────────────────┼───────────────┤\n",
       "│ dense_8 (\u001b[38;5;33mDense\u001b[0m)                 │ (\u001b[38;5;34m1\u001b[0m, \u001b[38;5;34m100\u001b[0m, \u001b[38;5;34m10000\u001b[0m)        │     \u001b[38;5;34m2,570,000\u001b[0m │\n",
       "└─────────────────────────────────┴────────────────────────┴───────────────┘\n"
      ]
     },
     "metadata": {},
     "output_type": "display_data"
    },
    {
     "data": {
      "text/html": [
       "<pre style=\"white-space:pre;overflow-x:auto;line-height:normal;font-family:Menlo,'DejaVu Sans Mono',consolas,'Courier New',monospace\"><span style=\"font-weight: bold\"> Total params: </span><span style=\"color: #00af00; text-decoration-color: #00af00\">10,393,360</span> (39.65 MB)\n",
       "</pre>\n"
      ],
      "text/plain": [
       "\u001b[1m Total params: \u001b[0m\u001b[38;5;34m10,393,360\u001b[0m (39.65 MB)\n"
      ]
     },
     "metadata": {},
     "output_type": "display_data"
    },
    {
     "data": {
      "text/html": [
       "<pre style=\"white-space:pre;overflow-x:auto;line-height:normal;font-family:Menlo,'DejaVu Sans Mono',consolas,'Courier New',monospace\"><span style=\"font-weight: bold\"> Trainable params: </span><span style=\"color: #00af00; text-decoration-color: #00af00\">10,393,360</span> (39.65 MB)\n",
       "</pre>\n"
      ],
      "text/plain": [
       "\u001b[1m Trainable params: \u001b[0m\u001b[38;5;34m10,393,360\u001b[0m (39.65 MB)\n"
      ]
     },
     "metadata": {},
     "output_type": "display_data"
    },
    {
     "data": {
      "text/html": [
       "<pre style=\"white-space:pre;overflow-x:auto;line-height:normal;font-family:Menlo,'DejaVu Sans Mono',consolas,'Courier New',monospace\"><span style=\"font-weight: bold\"> Non-trainable params: </span><span style=\"color: #00af00; text-decoration-color: #00af00\">0</span> (0.00 B)\n",
       "</pre>\n"
      ],
      "text/plain": [
       "\u001b[1m Non-trainable params: \u001b[0m\u001b[38;5;34m0\u001b[0m (0.00 B)\n"
      ]
     },
     "metadata": {},
     "output_type": "display_data"
    }
   ],
   "source": [
    "# Hyperparameters \n",
    "embed_dim = 256 \n",
    "num_heads = 4 \n",
    "ff_dim = 512 \n",
    "num_layers = 4 \n",
    "\n",
    "# Build the Transformer model \n",
    "model = TransformerModel(vocab_size, embed_dim, num_heads, ff_dim, num_layers, seq_length)\n",
    "\n",
    "# Provide input shape to build the model by passing a dummy input with maxval specified\n",
    "_ = model(tf.random.uniform((1, seq_length), maxval=vocab_size, dtype=tf.int32))\n",
    "\n",
    "# Compile the model \n",
    "model.compile(optimizer='adam', loss='sparse_categorical_crossentropy')\n",
    "\n",
    "# Summary of the model \n",
    "model.summary()\n"
   ]
  },
  {
   "cell_type": "markdown",
   "metadata": {},
   "source": [
    "#### Step 4: Train the Transformer model \n",
    "\n",
    "Train the Transformer model on the preprocessed text data. \n",
    "\n",
    "In the following code: \n",
    "\n",
    "- Train the Transformer model on the input and target sequences \n",
    "\n",
    "- Plot the training loss to monitor the model's performance over epochs \n",
    "\n",
    "Model training: \n"
   ]
  },
  {
   "cell_type": "code",
   "execution_count": 8,
   "metadata": {},
   "outputs": [],
   "source": [
    "# !pip install matplotlib"
   ]
  },
  {
   "cell_type": "code",
   "execution_count": 9,
   "metadata": {},
   "outputs": [
    {
     "name": "stdout",
     "output_type": "stream",
     "text": [
      "Epoch 1/20\n"
     ]
    },
    {
     "name": "stderr",
     "output_type": "stream",
     "text": [
      "I0000 00:00:1739852756.352334    2036 service.cc:146] XLA service 0x7f2560003d20 initialized for platform CUDA (this does not guarantee that XLA will be used). Devices:\n",
      "I0000 00:00:1739852756.352527    2036 service.cc:154]   StreamExecutor device (0): NVIDIA GeForce GTX 1650, Compute Capability 7.5\n",
      "2025-02-18 07:55:57.133038: I tensorflow/compiler/mlir/tensorflow/utils/dump_mlir_util.cc:268] disabling MLIR crash reproducer, set env var `MLIR_CRASH_REPRODUCER_DIRECTORY` to enable.\n",
      "W0000 00:00:1739852758.784717    2036 assert_op.cc:38] Ignoring Assert operator compile_loss/sparse_categorical_crossentropy/SparseSoftmaxCrossEntropyWithLogits/assert_equal_1/Assert/Assert\n",
      "2025-02-18 07:56:00.347418: I external/local_xla/xla/stream_executor/cuda/cuda_dnn.cc:531] Loaded cuDNN version 90101\n",
      "2025-02-18 07:56:28.522107: I external/local_xla/xla/stream_executor/cuda/cuda_asm_compiler.cc:393] ptxas warning : Registers are spilled to local memory in function 'loop_add_subtract_fusion_15', 80 bytes spill stores, 80 bytes spill loads\n",
      "ptxas warning : Registers are spilled to local memory in function 'loop_add_subtract_fusion_14', 16 bytes spill stores, 16 bytes spill loads\n",
      "\n",
      "I0000 00:00:1739852788.828832    2036 device_compiler.h:188] Compiled cluster using XLA!  This line is logged at most once for the lifetime of the process.\n"
     ]
    },
    {
     "name": "stdout",
     "output_type": "stream",
     "text": [
      "\u001b[1m6329/6330\u001b[0m \u001b[32m━━━━━━━━━━━━━━━━━━━\u001b[0m\u001b[37m━\u001b[0m \u001b[1m0s\u001b[0m 247ms/step - loss: 12.0308   "
     ]
    },
    {
     "name": "stderr",
     "output_type": "stream",
     "text": [
      "W0000 00:00:1739854355.500567    2036 assert_op.cc:38] Ignoring Assert operator compile_loss/sparse_categorical_crossentropy/SparseSoftmaxCrossEntropyWithLogits/assert_equal_1/Assert/Assert\n",
      "2025-02-18 08:23:04.727209: I external/local_xla/xla/stream_executor/cuda/cuda_asm_compiler.cc:393] ptxas warning : Registers are spilled to local memory in function 'loop_add_subtract_fusion_15', 80 bytes spill stores, 80 bytes spill loads\n",
      "\n"
     ]
    },
    {
     "name": "stdout",
     "output_type": "stream",
     "text": [
      "\u001b[1m6330/6330\u001b[0m \u001b[32m━━━━━━━━━━━━━━━━━━━━\u001b[0m\u001b[37m\u001b[0m \u001b[1m1659s\u001b[0m 252ms/step - loss: 12.0308\n",
      "Epoch 2/20\n",
      "\u001b[1m6330/6330\u001b[0m \u001b[32m━━━━━━━━━━━━━━━━━━━━\u001b[0m\u001b[37m\u001b[0m \u001b[1m833s\u001b[0m 132ms/step - loss: 12.1675\n",
      "Epoch 3/20\n",
      "\u001b[1m6330/6330\u001b[0m \u001b[32m━━━━━━━━━━━━━━━━━━━━\u001b[0m\u001b[37m\u001b[0m \u001b[1m833s\u001b[0m 132ms/step - loss: 12.4760\n"
     ]
    },
    {
     "data": {
      "image/png": "[encoded data removed]",
      "text/plain": [
       "<Figure size 640x480 with 1 Axes>"
      ]
     },
     "metadata": {},
     "output_type": "display_data"
    }
   ],
   "source": [
    "# Import necessary libraries for training visualization\n",
    "import matplotlib.pyplot as plt\n",
    "from keras.callbacks import EarlyStopping\n",
    "\n",
    "# Early stopping callback to stop training if the loss doesn't improve\n",
    "early_stopping = EarlyStopping(monitor='loss', patience=2, restore_best_weights=True)\n",
    "\n",
    "# Train the transformer model on the full input and target sequences\n",
    "history = model.fit(X, Y, epochs=20, batch_size=32, callbacks=[early_stopping])\n",
    "\n",
    "# Plot training loss to monitor model performance over epochs\n",
    "plt.plot(history.history['loss'])\n",
    "plt.xlabel('Epoch')\n",
    "plt.ylabel('Loss')\n",
    "plt.title('Training Loss')\n",
    "plt.show()\n"
   ]
  },
  {
   "cell_type": "markdown",
   "metadata": {},
   "source": [
    "#### Step 5: Generate text with the trained model \n",
    "\n",
    "Define a function to generate text using the trained Transformer model. \n",
    "\n",
    "In the following code: \n",
    "\n",
    "- Define the generate_text function to generate text using the trained Transformer model \n",
    "\n",
    "- Convert the start string into numerical format \n",
    "\n",
    "- Use the model to predict the next word and append it to the generated text \n",
    "\n",
    "- Print the generated text \n",
    "\n",
    "#### Text generation: \n"
   ]
  },
  {
   "cell_type": "code",
   "execution_count": 10,
   "metadata": {},
   "outputs": [
    {
     "name": "stdout",
     "output_type": "stream",
     "text": [
      "To be, or not to be make did than did richard did their richard richard did out did did their richard say out them their ay richard did richard their sir their richard should richard richard did richard their richard yet richard did richard richard richard did o than should should did richard richard richard duke did o fair richard too too them did richard richard richard did richard fair did richard did richard yet mine their yet them did did did did did yet richard richard richard them richard protector richard art their too richard richard did did did did did did out yet richard\n"
     ]
    }
   ],
   "source": [
    "def generate_text(model, start_string, num_generate=100, temperature=1.0):\n",
    "    # Convert the start string to a vectorized format\n",
    "    input_eval = vectorizer([start_string]).numpy()\n",
    "    \n",
    "    # Ensure the input length is the same as the model's expected input shape\n",
    "    if input_eval.shape[1] < seq_length:\n",
    "        # Pad the input if it's shorter than the expected sequence length\n",
    "        padding = np.zeros((1, seq_length - input_eval.shape[1]))\n",
    "        input_eval = np.concatenate((padding, input_eval), axis=1)\n",
    "    elif input_eval.shape[1] > seq_length:\n",
    "        # Truncate the input if it's longer than the expected sequence length\n",
    "        input_eval = input_eval[:, -seq_length:]\n",
    "\n",
    "    input_eval = tf.convert_to_tensor(input_eval)\n",
    "    \n",
    "    # Initialize an empty list to store generated text\n",
    "    text_generated = []\n",
    "\n",
    "    # Start generating text\n",
    "    for i in range(num_generate):\n",
    "        # Make predictions using the model\n",
    "        predictions = model(input_eval)\n",
    "\n",
    "        # Remove only the batch dimension, keep the logits as 2D (batch_size, vocab_size)\n",
    "        predictions = predictions[0]  # This should be of shape [vocab_size]\n",
    "\n",
    "        # Apply temperature to predictions\n",
    "        predictions = predictions / temperature\n",
    "        \n",
    "        # Use a categorical distribution to predict the next word\n",
    "        predicted_id = tf.random.categorical(predictions, num_samples=1)[0, 0].numpy()\n",
    "\n",
    "        # Update the input tensor to include the predicted word, maintaining the sequence length\n",
    "        input_eval = np.append(input_eval.numpy(), [[predicted_id]], axis=1)  # Append predicted token\n",
    "        input_eval = input_eval[:, -seq_length:]  # Keep only the last `seq_length` tokens\n",
    "        input_eval = tf.convert_to_tensor(input_eval)  # Convert back to tensor\n",
    "\n",
    "        # Append the predicted word to the generated text\n",
    "        text_generated.append(vectorizer.get_vocabulary()[predicted_id])\n",
    "\n",
    "    # Return the generated text starting from the initial seed\n",
    "    return start_string + ' ' + ' '.join(text_generated)\n",
    "\n",
    "# Generate text with temperature control\n",
    "start_string = \"To be, or not to be\"\n",
    "generated_text = generate_text(model, start_string, temperature=0.7)  # Lower temperature for more focused predictions\n",
    "print(generated_text)\n"
   ]
  },
  {
   "cell_type": "markdown",
   "metadata": {},
   "source": [
    "### Practice exercises \n",
    "\n",
    "### Exercise 1: Experiment with different sequence lengths \n",
    "\n",
    "**Objective:** Implement different sequence lengths to understand their effect on the performance of the Transformer model. \n",
    "\n",
    "**Instructions:**\n",
    "\n",
    "- Change the sequence length to 50 \n",
    "\n",
    "- Preprocess the data set with the new sequence length \n",
    "\n",
    "- Train the model and compare the training loss \n"
   ]
  },
  {
   "cell_type": "code",
   "execution_count": 11,
   "metadata": {},
   "outputs": [],
   "source": [
    "# !pip install pandas\n",
    "# !pip install scikit-learn"
   ]
  },
  {
   "cell_type": "code",
   "execution_count": 13,
   "metadata": {},
   "outputs": [
    {
     "name": "stdout",
     "output_type": "stream",
     "text": [
      "Number of samples in the dataset: 30\n",
      "Dataset is very small. Using 50% of the data for training.\n",
      "Shape of X: (24, 5, 1)\n",
      "Shape of Y: (24,)\n",
      "Epoch 1/5\n",
      "\u001b[1m10/10\u001b[0m \u001b[32m━━━━━━━━━━━━━━━━━━━━\u001b[0m\u001b[37m\u001b[0m \u001b[1m19s\u001b[0m 13ms/step - loss: 0.1853\n",
      "Epoch 2/5\n",
      "\u001b[1m10/10\u001b[0m \u001b[32m━━━━━━━━━━━━━━━━━━━━\u001b[0m\u001b[37m\u001b[0m \u001b[1m0s\u001b[0m 1ms/step - loss: 8.7461 \n",
      "Epoch 3/5\n"
     ]
    },
    {
     "name": "stderr",
     "output_type": "stream",
     "text": [
      "2025-02-18 09:07:30.124066: I tensorflow/core/framework/local_rendezvous.cc:404] Local rendezvous is aborting with status: OUT_OF_RANGE: End of sequence\n",
      "\t [[{{node IteratorGetNext}}]]\n",
      "2025-02-18 09:07:30.124234: I tensorflow/core/framework/local_rendezvous.cc:423] Local rendezvous recv item cancelled. Key hash: 4486769489369106528\n",
      "2025-02-18 09:07:30.124348: I tensorflow/core/framework/local_rendezvous.cc:423] Local rendezvous recv item cancelled. Key hash: 3355013379808184154\n",
      "/home/sadegh/anaconda3/lib/python3.12/contextlib.py:158: UserWarning: Your input ran out of data; interrupting training. Make sure that your dataset or generator can generate at least `steps_per_epoch * epochs` batches. You may need to use the `.repeat()` function when building your dataset.\n",
      "  self.gen.throw(value)\n",
      "2025-02-18 09:07:30.303052: I tensorflow/core/framework/local_rendezvous.cc:404] Local rendezvous is aborting with status: OUT_OF_RANGE: End of sequence\n",
      "\t [[{{node IteratorGetNext}}]]\n",
      "2025-02-18 09:07:30.303371: I tensorflow/core/framework/local_rendezvous.cc:423] Local rendezvous recv item cancelled. Key hash: 4486769489369106528\n"
     ]
    },
    {
     "name": "stdout",
     "output_type": "stream",
     "text": [
      "\u001b[1m10/10\u001b[0m \u001b[32m━━━━━━━━━━━━━━━━━━━━\u001b[0m\u001b[37m\u001b[0m \u001b[1m0s\u001b[0m 1ms/step - loss: 0.8668 \n"
     ]
    },
    {
     "name": "stderr",
     "output_type": "stream",
     "text": [
      "2025-02-18 09:07:30.382554: I tensorflow/core/framework/local_rendezvous.cc:423] Local rendezvous recv item cancelled. Key hash: 4486769489369106528\n"
     ]
    },
    {
     "data": {
      "image/png": "[encoded data removed]",
      "text/plain": [
       "<Figure size 640x480 with 1 Axes>"
      ]
     },
     "metadata": {},
     "output_type": "display_data"
    }
   ],
   "source": [
    "# Write your code here\n",
    "import numpy as np\n",
    "import pandas as pd\n",
    "import tensorflow as tf\n",
    "from sklearn.preprocessing import MinMaxScaler\n",
    "from sklearn.model_selection import train_test_split\n",
    "from keras.layers import Layer, Dense, LayerNormalization, Dropout, Input\n",
    "from keras.callbacks import EarlyStopping\n",
    "import matplotlib.pyplot as plt\n",
    "\n",
    "# Example: Load a time-series dataset\n",
    "data_url = 'https://cf-courses-data.s3.us.cloud-object-storage.appdomain.cloud/WHA_mc9FWSVjCGLSLAp48A/stock-prices.csv'\n",
    "df = pd.read_csv(data_url)\n",
    "\n",
    "# Select the 'Close' column for training (or any relevant column for your task)\n",
    "data = df[['Close']].values\n",
    "\n",
    "# Normalize the data\n",
    "scaler = MinMaxScaler(feature_range=(0, 1))\n",
    "data = scaler.fit_transform(data)\n",
    "\n",
    "# Check the number of samples in the data\n",
    "n_samples = data.shape[0]\n",
    "print(f\"Number of samples in the dataset: {n_samples}\")\n",
    "\n",
    "# Ensure we have enough data by setting a reasonable train size\n",
    "if n_samples < 100:\n",
    "    print(\"Dataset is very small. Using 50% of the data for training.\")\n",
    "    train_size = 0.5  # Use 50% of data if we have less than 100 samples\n",
    "    seq_length = 5    # Use a shorter sequence length for very small datasets\n",
    "else:\n",
    "    train_size = 0.1  # Use 10% of data for larger datasets\n",
    "    seq_length = 50   # Change sequence length to 50 for larger datasets\n",
    "\n",
    "# Reduce dataset size for quicker runs\n",
    "X, _, Y, _ = train_test_split(data, data, train_size=train_size, random_state=42)  # Adjust train_size based on data\n",
    "\n",
    "# Preprocess the dataset with adjusted sequence length\n",
    "def create_dataset(data, time_step=seq_length):\n",
    "    X, Y = [], []\n",
    "    for i in range(len(data)-time_step-1):\n",
    "        a = data[i:(i+time_step), 0]\n",
    "        X.append(a)\n",
    "        Y.append(data[i + time_step, 0])\n",
    "    return np.array(X), np.array(Y)\n",
    "\n",
    "X, Y = create_dataset(data, seq_length)\n",
    "\n",
    "# Check if the generated sequences have valid shapes\n",
    "if X.size == 0 or Y.size == 0:\n",
    "    raise ValueError(f\"The dataset is too small to create sequences with a length of {seq_length}. Reduce the sequence length or use a larger dataset.\")\n",
    "\n",
    "X = X.reshape(X.shape[0], X.shape[1], 1)\n",
    "\n",
    "print(\"Shape of X:\", X.shape)\n",
    "print(\"Shape of Y:\", Y.shape)\n",
    "\n",
    "# Define a simpler Transformer Block for faster runs\n",
    "class TransformerBlock(Layer):\n",
    "    def __init__(self, embed_dim, num_heads, ff_dim, rate=0.1):\n",
    "        super(TransformerBlock, self).__init__()\n",
    "        self.att = tf.keras.layers.MultiHeadAttention(num_heads=num_heads, key_dim=embed_dim)\n",
    "        self.ffn = tf.keras.Sequential([\n",
    "            Dense(ff_dim, activation=\"relu\"),\n",
    "            Dense(embed_dim),\n",
    "        ])\n",
    "        self.layernorm1 = LayerNormalization(epsilon=1e-6)\n",
    "        self.layernorm2 = LayerNormalization(epsilon=1e-6)\n",
    "        self.dropout1 = Dropout(rate)\n",
    "        self.dropout2 = Dropout(rate)\n",
    "\n",
    "    def call(self, inputs, training=False):  # Set training argument default to False\n",
    "        attn_output = self.att(inputs, inputs)\n",
    "        attn_output = self.dropout1(attn_output, training=training)\n",
    "        out1 = self.layernorm1(inputs + attn_output)\n",
    "        ffn_output = self.ffn(out1)\n",
    "        ffn_output = self.dropout2(ffn_output, training=training)\n",
    "        return self.layernorm2(out1 + ffn_output)\n",
    "\n",
    "# Build and compile the model\n",
    "input_shape = (X.shape[1], X.shape[2])\n",
    "inputs = tf.keras.Input(shape=input_shape)\n",
    "x = tf.keras.layers.Dense(64)(inputs)  # Reduced embed_dim for faster runs\n",
    "transformer_block = TransformerBlock(embed_dim=64, num_heads=4, ff_dim=128)  # Reduced model complexity\n",
    "x = transformer_block(x, training=True)  # Pass training argument here\n",
    "flatten = tf.keras.layers.Flatten()(x)\n",
    "outputs = tf.keras.layers.Dense(1)(flatten)\n",
    "model = tf.keras.Model(inputs, outputs)\n",
    "\n",
    "model.compile(optimizer='adam', loss='mse')\n",
    "\n",
    "# Early stopping to stop training when no improvement is seen\n",
    "early_stopping = EarlyStopping(monitor='loss', patience=2, restore_best_weights=True)\n",
    "\n",
    "# Train the model with reduced epochs and steps\n",
    "history = model.fit(X, Y, epochs=5, batch_size=32, steps_per_epoch=10, callbacks=[early_stopping])  # Reduced epochs and steps per epoch\n",
    "\n",
    "# Plot training loss\n",
    "plt.plot(history.history['loss'])\n",
    "plt.xlabel('Epoch')\n",
    "plt.ylabel('Loss')\n",
    "plt.title('Training Loss')\n",
    "plt.show()"
   ]
  },
  {
   "cell_type": "markdown",
   "metadata": {},
   "source": [
    "<details>\n",
    "    <summary>Click here for Solution</summary>\n",
    "\n",
    "```python\n",
    "!pip install pandas\n",
    "!pip install scikit-learn\n",
    "\n",
    "import numpy as np\n",
    "import pandas as pd\n",
    "import tensorflow as tf\n",
    "from sklearn.preprocessing import MinMaxScaler\n",
    "from sklearn.model_selection import train_test_split\n",
    "from tensorflow.keras.layers import Layer, Dense, LayerNormalization, Dropout, Input\n",
    "from tensorflow.keras.callbacks import EarlyStopping\n",
    "import matplotlib.pyplot as plt\n",
    "\n",
    "# Example: Load a time-series dataset\n",
    "data_url = 'https://cf-courses-data.s3.us.cloud-object-storage.appdomain.cloud/WHA_mc9FWSVjCGLSLAp48A/stock-prices.csv'\n",
    "df = pd.read_csv(data_url)\n",
    "\n",
    "# Select the 'Close' column for training (or any relevant column for your task)\n",
    "data = df[['Close']].values\n",
    "\n",
    "# Normalize the data\n",
    "scaler = MinMaxScaler(feature_range=(0, 1))\n",
    "data = scaler.fit_transform(data)\n",
    "\n",
    "# Check the number of samples in the data\n",
    "n_samples = data.shape[0]\n",
    "print(f\"Number of samples in the dataset: {n_samples}\")\n",
    "\n",
    "# Ensure we have enough data by setting a reasonable train size\n",
    "if n_samples < 100:\n",
    "    print(\"Dataset is very small. Using 50% of the data for training.\")\n",
    "    train_size = 0.5  # Use 50% of data if we have less than 100 samples\n",
    "    seq_length = 5    # Use a shorter sequence length for very small datasets\n",
    "else:\n",
    "    train_size = 0.1  # Use 10% of data for larger datasets\n",
    "    seq_length = 50   # Change sequence length to 50 for larger datasets\n",
    "\n",
    "# Reduce dataset size for quicker runs\n",
    "X, _, Y, _ = train_test_split(data, data, train_size=train_size, random_state=42)  # Adjust train_size based on data\n",
    "\n",
    "# Preprocess the dataset with adjusted sequence length\n",
    "def create_dataset(data, time_step=seq_length):\n",
    "    X, Y = [], []\n",
    "    for i in range(len(data)-time_step-1):\n",
    "        a = data[i:(i+time_step), 0]\n",
    "        X.append(a)\n",
    "        Y.append(data[i + time_step, 0])\n",
    "    return np.array(X), np.array(Y)\n",
    "\n",
    "X, Y = create_dataset(data, seq_length)\n",
    "\n",
    "# Check if the generated sequences have valid shapes\n",
    "if X.size == 0 or Y.size == 0:\n",
    "    raise ValueError(f\"The dataset is too small to create sequences with a length of {seq_length}. Reduce the sequence length or use a larger dataset.\")\n",
    "\n",
    "X = X.reshape(X.shape[0], X.shape[1], 1)\n",
    "\n",
    "print(\"Shape of X:\", X.shape)\n",
    "print(\"Shape of Y:\", Y.shape)\n",
    "\n",
    "# Define a simpler Transformer Block for faster runs\n",
    "class TransformerBlock(Layer):\n",
    "    def __init__(self, embed_dim, num_heads, ff_dim, rate=0.1):\n",
    "        super(TransformerBlock, self).__init__()\n",
    "        self.att = tf.keras.layers.MultiHeadAttention(num_heads=num_heads, key_dim=embed_dim)\n",
    "        self.ffn = tf.keras.Sequential([\n",
    "            Dense(ff_dim, activation=\"relu\"),\n",
    "            Dense(embed_dim),\n",
    "        ])\n",
    "        self.layernorm1 = LayerNormalization(epsilon=1e-6)\n",
    "        self.layernorm2 = LayerNormalization(epsilon=1e-6)\n",
    "        self.dropout1 = Dropout(rate)\n",
    "        self.dropout2 = Dropout(rate)\n",
    "\n",
    "    def call(self, inputs, training=False):  # Set training argument default to False\n",
    "        attn_output = self.att(inputs, inputs)\n",
    "        attn_output = self.dropout1(attn_output, training=training)\n",
    "        out1 = self.layernorm1(inputs + attn_output)\n",
    "        ffn_output = self.ffn(out1)\n",
    "        ffn_output = self.dropout2(ffn_output, training=training)\n",
    "        return self.layernorm2(out1 + ffn_output)\n",
    "\n",
    "# Build and compile the model\n",
    "input_shape = (X.shape[1], X.shape[2])\n",
    "inputs = tf.keras.Input(shape=input_shape)\n",
    "x = tf.keras.layers.Dense(64)(inputs)  # Reduced embed_dim for faster runs\n",
    "transformer_block = TransformerBlock(embed_dim=64, num_heads=4, ff_dim=128)  # Reduced model complexity\n",
    "x = transformer_block(x, training=True)  # Pass training argument here\n",
    "flatten = tf.keras.layers.Flatten()(x)\n",
    "outputs = tf.keras.layers.Dense(1)(flatten)\n",
    "model = tf.keras.Model(inputs, outputs)\n",
    "\n",
    "model.compile(optimizer='adam', loss='mse')\n",
    "\n",
    "# Early stopping to stop training when no improvement is seen\n",
    "early_stopping = EarlyStopping(monitor='loss', patience=2, restore_best_weights=True)\n",
    "\n",
    "# Train the model with reduced epochs and steps\n",
    "history = model.fit(X, Y, epochs=5, batch_size=32, steps_per_epoch=10, callbacks=[early_stopping])  # Reduced epochs and steps per epoch\n",
    "\n",
    "# Plot training loss\n",
    "plt.plot(history.history['loss'])\n",
    "plt.xlabel('Epoch')\n",
    "plt.ylabel('Loss')\n",
    "plt.title('Training Loss')\n",
    "plt.show()\n",
    "\n",
    "```\n",
    "\n",
    "</details>\n"
   ]
  },
  {
   "cell_type": "markdown",
   "metadata": {},
   "source": [
    "### Exercise 2: Add a learning rate scheduler \n",
    "\n",
    "**Objective:** Implement a learning rate scheduler to adjust the learning rate during training. \n",
    "\n",
    "**Instructions:**\n",
    "\n",
    "- Define a learning rate scheduler that reduces the learning rate by half every 10 epochs \n",
    "\n",
    "- Train the model with the learning rate scheduler and compare the training loss \n"
   ]
  },
  {
   "cell_type": "code",
   "execution_count": 14,
   "metadata": {},
   "outputs": [
    {
     "name": "stdout",
     "output_type": "stream",
     "text": [
      "Epoch 1/20\n",
      "\u001b[1m1/1\u001b[0m \u001b[32m━━━━━━━━━━━━━━━━━━━━\u001b[0m\u001b[37m\u001b[0m \u001b[1m0s\u001b[0m 72ms/step - loss: 8.5080 - learning_rate: 0.0010\n",
      "Epoch 2/20\n",
      "\u001b[1m1/1\u001b[0m \u001b[32m━━━━━━━━━━━━━━━━━━━━\u001b[0m\u001b[37m\u001b[0m \u001b[1m0s\u001b[0m 66ms/step - loss: 0.1965 - learning_rate: 0.0010\n",
      "Epoch 3/20\n",
      "\u001b[1m1/1\u001b[0m \u001b[32m━━━━━━━━━━━━━━━━━━━━\u001b[0m\u001b[37m\u001b[0m \u001b[1m0s\u001b[0m 70ms/step - loss: 3.2622 - learning_rate: 0.0010\n",
      "Epoch 4/20\n",
      "\u001b[1m1/1\u001b[0m \u001b[32m━━━━━━━━━━━━━━━━━━━━\u001b[0m\u001b[37m\u001b[0m \u001b[1m0s\u001b[0m 68ms/step - loss: 6.2245 - learning_rate: 0.0010\n",
      "Epoch 5/20\n",
      "\u001b[1m1/1\u001b[0m \u001b[32m━━━━━━━━━━━━━━━━━━━━\u001b[0m\u001b[37m\u001b[0m \u001b[1m0s\u001b[0m 67ms/step - loss: 4.9017 - learning_rate: 0.0010\n",
      "Epoch 6/20\n",
      "\u001b[1m1/1\u001b[0m \u001b[32m━━━━━━━━━━━━━━━━━━━━\u001b[0m\u001b[37m\u001b[0m \u001b[1m0s\u001b[0m 66ms/step - loss: 3.0534 - learning_rate: 0.0010\n",
      "Epoch 7/20\n",
      "\u001b[1m1/1\u001b[0m \u001b[32m━━━━━━━━━━━━━━━━━━━━\u001b[0m\u001b[37m\u001b[0m \u001b[1m0s\u001b[0m 69ms/step - loss: 0.9493 - learning_rate: 0.0010\n",
      "Epoch 8/20\n",
      "\u001b[1m1/1\u001b[0m \u001b[32m━━━━━━━━━━━━━━━━━━━━\u001b[0m\u001b[37m\u001b[0m \u001b[1m0s\u001b[0m 69ms/step - loss: 0.2612 - learning_rate: 0.0010\n",
      "Epoch 9/20\n",
      "\u001b[1m1/1\u001b[0m \u001b[32m━━━━━━━━━━━━━━━━━━━━\u001b[0m\u001b[37m\u001b[0m \u001b[1m0s\u001b[0m 68ms/step - loss: 0.2916 - learning_rate: 0.0010\n",
      "Epoch 10/20\n",
      "\u001b[1m1/1\u001b[0m \u001b[32m━━━━━━━━━━━━━━━━━━━━\u001b[0m\u001b[37m\u001b[0m \u001b[1m0s\u001b[0m 68ms/step - loss: 0.4848 - learning_rate: 0.0010\n",
      "Epoch 11/20\n",
      "\u001b[1m1/1\u001b[0m \u001b[32m━━━━━━━━━━━━━━━━━━━━\u001b[0m\u001b[37m\u001b[0m \u001b[1m0s\u001b[0m 81ms/step - loss: 1.3197 - learning_rate: 5.0000e-04\n",
      "Epoch 12/20\n",
      "\u001b[1m1/1\u001b[0m \u001b[32m━━━━━━━━━━━━━━━━━━━━\u001b[0m\u001b[37m\u001b[0m \u001b[1m0s\u001b[0m 99ms/step - loss: 0.9887 - learning_rate: 5.0000e-04\n",
      "Epoch 13/20\n",
      "\u001b[1m1/1\u001b[0m \u001b[32m━━━━━━━━━━━━━━━━━━━━\u001b[0m\u001b[37m\u001b[0m \u001b[1m0s\u001b[0m 73ms/step - loss: 1.2063 - learning_rate: 5.0000e-04\n",
      "Epoch 14/20\n",
      "\u001b[1m1/1\u001b[0m \u001b[32m━━━━━━━━━━━━━━━━━━━━\u001b[0m\u001b[37m\u001b[0m \u001b[1m0s\u001b[0m 74ms/step - loss: 1.0442 - learning_rate: 5.0000e-04\n",
      "Epoch 15/20\n",
      "\u001b[1m1/1\u001b[0m \u001b[32m━━━━━━━━━━━━━━━━━━━━\u001b[0m\u001b[37m\u001b[0m \u001b[1m0s\u001b[0m 70ms/step - loss: 0.8825 - learning_rate: 5.0000e-04\n",
      "Epoch 16/20\n",
      "\u001b[1m1/1\u001b[0m \u001b[32m━━━━━━━━━━━━━━━━━━━━\u001b[0m\u001b[37m\u001b[0m \u001b[1m0s\u001b[0m 71ms/step - loss: 0.6696 - learning_rate: 5.0000e-04\n",
      "Epoch 17/20\n",
      "\u001b[1m1/1\u001b[0m \u001b[32m━━━━━━━━━━━━━━━━━━━━\u001b[0m\u001b[37m\u001b[0m \u001b[1m0s\u001b[0m 65ms/step - loss: 0.3021 - learning_rate: 5.0000e-04\n",
      "Epoch 18/20\n",
      "\u001b[1m1/1\u001b[0m \u001b[32m━━━━━━━━━━━━━━━━━━━━\u001b[0m\u001b[37m\u001b[0m \u001b[1m0s\u001b[0m 65ms/step - loss: 0.4175 - learning_rate: 5.0000e-04\n",
      "Epoch 19/20\n",
      "\u001b[1m1/1\u001b[0m \u001b[32m━━━━━━━━━━━━━━━━━━━━\u001b[0m\u001b[37m\u001b[0m \u001b[1m0s\u001b[0m 66ms/step - loss: 0.1852 - learning_rate: 5.0000e-04\n",
      "Epoch 20/20\n",
      "\u001b[1m1/1\u001b[0m \u001b[32m━━━━━━━━━━━━━━━━━━━━\u001b[0m\u001b[37m\u001b[0m \u001b[1m0s\u001b[0m 65ms/step - loss: 0.0908 - learning_rate: 5.0000e-04\n"
     ]
    },
    {
     "data": {
      "image/png": "[encoded data removed]",
      "text/plain": [
       "<Figure size 640x480 with 1 Axes>"
      ]
     },
     "metadata": {},
     "output_type": "display_data"
    }
   ],
   "source": [
    "# Write your code here\n",
    "import numpy as np\n",
    "import pandas as pd\n",
    "import tensorflow as tf\n",
    "from sklearn.preprocessing import MinMaxScaler\n",
    "from sklearn.model_selection import train_test_split\n",
    "from keras.layers import Layer, Dense, LayerNormalization, Dropout, Input\n",
    "from keras.callbacks import EarlyStopping\n",
    "import matplotlib.pyplot as plt\n",
    "\n",
    "# Define a learning rate scheduler  \n",
    "def scheduler(epoch, lr):  \n",
    "    if epoch % 10 == 0 and epoch != 0:  \n",
    "        lr = lr * 0.5  \n",
    "    return lr  \n",
    " \n",
    "\n",
    "callback = tf.keras.callbacks.LearningRateScheduler(scheduler)  \n",
    "\n",
    "\n",
    "# Train the model with the learning rate scheduler  \n",
    "history = model.fit(X, Y, epochs=20, batch_size=64, callbacks=[callback])  \n",
    "   \n",
    "\n",
    "# Plot the training loss  \n",
    "plt.plot(history.history['loss'])  \n",
    "plt.xlabel('Epoch')  \n",
    "plt.ylabel('Loss')  \n",
    "plt.title('Training Loss with Learning Rate Scheduler')  \n",
    "plt.show()"
   ]
  },
  {
   "cell_type": "markdown",
   "metadata": {},
   "source": [
    "<details>\n",
    "    <summary>Click here for Solution</summary>\n",
    "\n",
    "```python\n",
    "import numpy as np\n",
    "import pandas as pd\n",
    "import tensorflow as tf\n",
    "from sklearn.preprocessing import MinMaxScaler\n",
    "from sklearn.model_selection import train_test_split\n",
    "from tensorflow.keras.layers import Layer, Dense, LayerNormalization, Dropout, Input\n",
    "from tensorflow.keras.callbacks import EarlyStopping\n",
    "import matplotlib.pyplot as plt\n",
    "\n",
    "# Define a learning rate scheduler  \n",
    "def scheduler(epoch, lr):  \n",
    "    if epoch % 10 == 0 and epoch != 0:  \n",
    "        lr = lr * 0.5  \n",
    "    return lr  \n",
    " \n",
    "\n",
    "callback = tf.keras.callbacks.LearningRateScheduler(scheduler)  \n",
    "\n",
    "\n",
    "# Train the model with the learning rate scheduler  \n",
    "history = model.fit(X, Y, epochs=20, batch_size=64, callbacks=[callback])  \n",
    "   \n",
    "\n",
    "# Plot the training loss  \n",
    "plt.plot(history.history['loss'])  \n",
    "plt.xlabel('Epoch')  \n",
    "plt.ylabel('Loss')  \n",
    "plt.title('Training Loss with Learning Rate Scheduler')  \n",
    "plt.show() \n",
    "```\n",
    "\n",
    "</details>\n"
   ]
  },
  {
   "cell_type": "markdown",
   "metadata": {},
   "source": [
    "### Exercise 3: Generate longer text sequences \n",
    "\n",
    "**Objective:** To explore the model's text generation capabilities and generate longer sequences. \n",
    "\n",
    "**Instructions:**\n",
    "\n",
    "- Modify the `generate_text` function to generate 200 tokens instead of 100 \n",
    "\n",
    "- Generate text using the trained model and the modified function \n"
   ]
  },
  {
   "cell_type": "code",
   "execution_count": 15,
   "metadata": {},
   "outputs": [
    {
     "name": "stdout",
     "output_type": "stream",
     "text": [
      "To be, or not to be                                                                                                                                                                                                        \n"
     ]
    }
   ],
   "source": [
    "# Write your code here\n",
    "import numpy as np\n",
    "import pandas as pd\n",
    "import tensorflow as tf\n",
    "from sklearn.preprocessing import MinMaxScaler\n",
    "from sklearn.model_selection import train_test_split\n",
    "from keras.layers import Layer, Dense, LayerNormalization, Dropout, Input\n",
    "from keras.callbacks import EarlyStopping\n",
    "import matplotlib.pyplot as plt\n",
    "\n",
    "def generate_text(model, start_string, num_generate=200):\n",
    "    # Convert the start string to numbers (vectorize)\n",
    "    input_eval = vectorizer([start_string]).numpy()\n",
    "\n",
    "    # Ensure the input tensor has the correct shape\n",
    "    input_eval = tf.convert_to_tensor(input_eval[:, -5:])  # Ensure it has a shape of (1, 5)\n",
    "    \n",
    "    text_generated = []\n",
    "\n",
    "    for i in range(num_generate):\n",
    "        # Make predictions using the model\n",
    "        predictions = model(input_eval)\n",
    "\n",
    "        # Ensure predictions is a matrix with shape [batch_size, num_classes]\n",
    "        predictions = tf.squeeze(predictions, 0)  # Remove the batch dimension\n",
    "        predictions = tf.expand_dims(predictions, 0)  # Add back a batch dimension for categorical\n",
    "        \n",
    "        # Use a categorical distribution to predict the next word\n",
    "        predicted_id = tf.random.categorical(predictions, num_samples=1)[-1, 0].numpy()\n",
    "\n",
    "        # Update the input tensor to include the predicted word, maintaining the sequence length\n",
    "        input_eval = np.append(input_eval.numpy(), [[predicted_id]], axis=1)  # Append predicted token\n",
    "        input_eval = input_eval[:, -5:]  # Keep only the last 5 tokens to match input shape\n",
    "        input_eval = tf.convert_to_tensor(input_eval)  # Convert back to tensor\n",
    "        \n",
    "        # Add the predicted word to the generated text\n",
    "        text_generated.append(vectorizer.get_vocabulary()[predicted_id])\n",
    "\n",
    "    return start_string + ' ' + ' '.join(text_generated)\n",
    "\n",
    "\n",
    "# Generate longer text\n",
    "start_string = \"To be, or not to be\"\n",
    "generated_text = generate_text(model, start_string)\n",
    "\n",
    "print(generated_text)"
   ]
  },
  {
   "cell_type": "markdown",
   "metadata": {},
   "source": [
    "<details>\n",
    "    <summary>Click here for Solution</summary>\n",
    "\n",
    "```python\n",
    "\n",
    "import numpy as np\n",
    "import pandas as pd\n",
    "import tensorflow as tf\n",
    "from sklearn.preprocessing import MinMaxScaler\n",
    "from sklearn.model_selection import train_test_split\n",
    "from tensorflow.keras.layers import Layer, Dense, LayerNormalization, Dropout, Input\n",
    "from tensorflow.keras.callbacks import EarlyStopping\n",
    "import matplotlib.pyplot as plt\n",
    "\n",
    "def generate_text(model, start_string, num_generate=200):\n",
    "    # Convert the start string to numbers (vectorize)\n",
    "    input_eval = vectorizer([start_string]).numpy()\n",
    "\n",
    "    # Ensure the input tensor has the correct shape\n",
    "    input_eval = tf.convert_to_tensor(input_eval[:, -5:])  # Ensure it has a shape of (1, 5)\n",
    "    \n",
    "    text_generated = []\n",
    "\n",
    "    for i in range(num_generate):\n",
    "        # Make predictions using the model\n",
    "        predictions = model(input_eval)\n",
    "\n",
    "        # Ensure predictions is a matrix with shape [batch_size, num_classes]\n",
    "        predictions = tf.squeeze(predictions, 0)  # Remove the batch dimension\n",
    "        predictions = tf.expand_dims(predictions, 0)  # Add back a batch dimension for categorical\n",
    "        \n",
    "        # Use a categorical distribution to predict the next word\n",
    "        predicted_id = tf.random.categorical(predictions, num_samples=1)[-1, 0].numpy()\n",
    "\n",
    "        # Update the input tensor to include the predicted word, maintaining the sequence length\n",
    "        input_eval = np.append(input_eval.numpy(), [[predicted_id]], axis=1)  # Append predicted token\n",
    "        input_eval = input_eval[:, -5:]  # Keep only the last 5 tokens to match input shape\n",
    "        input_eval = tf.convert_to_tensor(input_eval)  # Convert back to tensor\n",
    "        \n",
    "        # Add the predicted word to the generated text\n",
    "        text_generated.append(vectorizer.get_vocabulary()[predicted_id])\n",
    "\n",
    "    return start_string + ' ' + ' '.join(text_generated)\n",
    "\n",
    "\n",
    "# Generate longer text\n",
    "start_string = \"To be, or not to be\"\n",
    "generated_text = generate_text(model, start_string)\n",
    "\n",
    "print(generated_text)\n",
    " \n",
    "```\n",
    "\n",
    "</details>\n"
   ]
  },
  {
   "cell_type": "markdown",
   "metadata": {},
   "source": [
    "#### Conclusion \n",
    "\n",
    "Congratulations on completing this lab! You have successfully built and trained a Transformer model for text generation in this lab using TensorFlow and Keras. You learned how to preprocess text data, create input and target sequences, define the Transformer model architecture, train the model, and generate text using the trained model. By completing this lab, you gained hands-on experience with Transformers for text generation and explored practical applications of this robust model architecture. \n"
   ]
  },
  {
   "cell_type": "markdown",
   "metadata": {},
   "source": [
    "Copyright © IBM Corporation. All rights reserved.\n"
   ]
  }
 ],
 "metadata": {
  "kernelspec": {
   "display_name": "Python 3 (ipykernel)",
   "language": "python",
   "name": "python3"
  },
  "language_info": {
   "codemirror_mode": {
    "name": "ipython",
    "version": 3
   },
   "file_extension": ".py",
   "mimetype": "text/x-python",
   "name": "python",
   "nbconvert_exporter": "python",
   "pygments_lexer": "ipython3",
   "version": "3.12.2"
  },
  "prev_pub_hash": "2e6ca7cd09b5cd4f1194960912f1c49074e07ec8eedd449d96e6d372faa57813"
 },
 "nbformat": 4,
 "nbformat_minor": 4
}
